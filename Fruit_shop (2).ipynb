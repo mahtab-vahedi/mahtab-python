{
 "cells": [
  {
   "cell_type": "code",
   "execution_count": 26,
   "id": "d96d2e51-de70-45fd-bd19-c6b37ff0e6e3",
   "metadata": {},
   "outputs": [
    {
     "name": "stdout",
     "output_type": "stream",
     "text": [
      "<__main__.Fruit object at 0x0000013D9F7513A0>\n",
      "<__main__.Fruit object at 0x0000013D9FF83D40>\n",
      "<__main__.Fruit object at 0x0000013D9FE9ABA0>\n",
      "<__main__.Fruit object at 0x0000013D9FF83AD0>\n",
      "<__main__.Fruit object at 0x0000013D9F3AC920>\n",
      "<__main__.Fruit object at 0x0000013D9E92C980>\n",
      "<__main__.Fruit object at 0x0000013D9FF83E30>\n",
      "fruits cheaper than 3$\n",
      "<__main__.Fruit object at 0x0000013D9F7513A0>\n",
      "<__main__.Fruit object at 0x0000013D9FF83D40>\n",
      "fruit names ['banana ', 'apple', 'orange', 'grape', 'kiwi', 'pineapple', 'grapes']\n",
      "total value of inventory1270\n"
     ]
    }
   ],
   "source": [
    "import functools\n",
    "from functools import reduce\n",
    "class Fruit:\n",
    "    def __init__(self, name, price, quantity):\n",
    "        self.name = name\n",
    "        self.price = price\n",
    "        self.quantity=quantity\n",
    "# class Fruit:\n",
    "#     def __init__(self,name,price,quantity):\n",
    "#         self.name=name\n",
    "#         self.price=price\n",
    "#         self.quantity=quantity\n",
    "\n",
    "def __str__(self):\n",
    "    return f\"{self.name}: ${self.price}/kg, {self.quantity}kg in stock\"\n",
    "\n",
    "fruits=[Fruit('banana ',4,30), Fruit('apple',2,50), Fruit('orange',6,100) , Fruit('grape',4,25) ,Fruit ('kiwi',2,75) ,Fruit ('pineapple',5,20) , Fruit('grapes',5,20)]\n",
    "sort_price= sorted (fruits,key=lambda fruit:fruit.price)\n",
    "for fruit in sort_price:\n",
    "    print(fruit)\n",
    "\n",
    "\n",
    "\n",
    "\n",
    "\n",
    "filter_fruits=(filter(lambda fruit:fruit.price<3,fruits))\n",
    "filter_fruits=list(filter_fruits)\n",
    "print('fruits cheaper than 3$')\n",
    "for fruit in filter_fruits:\n",
    "    print(fruit)\n",
    "\n",
    "fruit_name=list(map(lambda fruit:fruit.name,fruits))\n",
    "print('fruit names',fruit_name)\n",
    "total=reduce(lambda a,fruit:a + (fruit.price*fruit.quantity),fruits,0)\n",
    "print(f'total value of inventory{total}')"
   ]
  },
  {
   "cell_type": "code",
   "execution_count": null,
   "id": "37a31f6d-6a6b-4540-8a58-d759b52359c8",
   "metadata": {},
   "outputs": [],
   "source": []
  },
  {
   "cell_type": "code",
   "execution_count": null,
   "id": "d1a2450a-1ef5-4e46-a60f-fecca24e90f6",
   "metadata": {},
   "outputs": [],
   "source": []
  }
 ],
 "metadata": {
  "kernelspec": {
   "display_name": "Python 3 (ipykernel)",
   "language": "python",
   "name": "python3"
  },
  "language_info": {
   "codemirror_mode": {
    "name": "ipython",
    "version": 3
   },
   "file_extension": ".py",
   "mimetype": "text/x-python",
   "name": "python",
   "nbconvert_exporter": "python",
   "pygments_lexer": "ipython3",
   "version": "3.12.7"
  }
 },
 "nbformat": 4,
 "nbformat_minor": 5
}
